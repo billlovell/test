{
 "cells": [
  {
   "cell_type": "markdown",
   "metadata": {},
   "source": [
    "Coding Challenge\n",
    "===\n",
    "**Shane Bracher** \\<sbracher@gmail.com\\>"
   ]
  },
  {
   "cell_type": "markdown",
   "metadata": {},
   "source": [
    "# Imports"
   ]
  },
  {
   "cell_type": "code",
   "execution_count": 1,
   "metadata": {},
   "outputs": [
    {
     "name": "stderr",
     "output_type": "stream",
     "text": [
      "/usr/lib/python3.6/importlib/_bootstrap.py:219: RuntimeWarning: numpy.dtype size changed, may indicate binary incompatibility. Expected 96, got 88\n",
      "  return f(*args, **kwds)\n",
      "/usr/lib/python3.6/importlib/_bootstrap.py:219: RuntimeWarning: numpy.dtype size changed, may indicate binary incompatibility. Expected 96, got 88\n",
      "  return f(*args, **kwds)\n",
      "/usr/lib/python3/dist-packages/sklearn/cross_validation.py:41: DeprecationWarning: This module was deprecated in version 0.18 in favor of the model_selection module into which all the refactored classes and functions are moved. Also note that the interface of the new CV iterators are different from that of this module. This module will be removed in 0.20.\n",
      "  \"This module will be removed in 0.20.\", DeprecationWarning)\n",
      "/usr/lib/python3/dist-packages/sklearn/ensemble/weight_boosting.py:29: DeprecationWarning: numpy.core.umath_tests is an internal NumPy module and should not be imported. It will be removed in a future NumPy release.\n",
      "  from numpy.core.umath_tests import inner1d\n",
      "/usr/lib/python3/dist-packages/sklearn/grid_search.py:42: DeprecationWarning: This module was deprecated in version 0.18 in favor of the model_selection module into which all the refactored classes and functions are moved. This module will be removed in 0.20.\n",
      "  DeprecationWarning)\n"
     ]
    }
   ],
   "source": [
    "import pandas as pd\n",
    "import numpy as np\n",
    "import matplotlib.pyplot as plt\n",
    "import seaborn as sns\n",
    "import math\n",
    "\n",
    "from sklearn import cross_validation\n",
    "from sklearn.linear_model import LinearRegression\n",
    "from sklearn.linear_model import Lasso\n",
    "from sklearn.linear_model import ElasticNet\n",
    "from sklearn.tree import DecisionTreeRegressor\n",
    "from sklearn.neighbors import KNeighborsRegressor\n",
    "from sklearn.svm import SVR\n",
    "from sklearn.preprocessing import StandardScaler\n",
    "from sklearn.pipeline import Pipeline\n",
    "from sklearn.ensemble import RandomForestRegressor\n",
    "from sklearn.ensemble import GradientBoostingRegressor\n",
    "from sklearn.ensemble import ExtraTreesRegressor\n",
    "from sklearn.ensemble import AdaBoostRegressor\n",
    "from sklearn.grid_search import GridSearchCV\n",
    "from sklearn.metrics import mean_squared_error"
   ]
  },
  {
   "cell_type": "markdown",
   "metadata": {},
   "source": [
    "# Settings"
   ]
  },
  {
   "cell_type": "code",
   "execution_count": 2,
   "metadata": {},
   "outputs": [],
   "source": [
    "pd.set_option('display.width', 100)\n",
    "pd.set_option('display.max_columns', 30)\n",
    "pd.set_option('precision', 3)  # number of decimal places\n",
    "\n",
    "filename = 'Book1.csv'  # assumes that csv file is in same directory as this Jupyter notebook file\n",
    "\n",
    "# modelling settings\n",
    "validation_size = 0.2     # 20% of the dataset\n",
    "seed = 8         \n",
    "num_folds = 10\n",
    "scoring = 'neg_mean_squared_error'"
   ]
  },
  {
   "cell_type": "markdown",
   "metadata": {},
   "source": [
    "# Load Data"
   ]
  },
  {
   "cell_type": "markdown",
   "metadata": {},
   "source": [
    "Load csv data into a data frame. Before loading, clean up file to remove quotation marks so that csv data is correctly loaded into data frame."
   ]
  },
  {
   "cell_type": "code",
   "execution_count": 3,
   "metadata": {},
   "outputs": [],
   "source": [
    "# read in csv file to clean up\n",
    "with open(filename, 'r') as file :\n",
    "  filedata = file.read()\n",
    "\n",
    "# remove all quotation marks from the csv file\n",
    "filedata = filedata.replace('\"', '')\n",
    "\n",
    "# write out the cleaned up file with new filename\n",
    "filename_noquotes = 'noquotes_' + filename\n",
    "with open(filename_noquotes, 'w') as file:\n",
    "  file.write(filedata)\n",
    "\n",
    "# load data from new csv with quotation marks removed\n",
    "data = pd.read_csv(filename_noquotes)\n",
    "\n",
    "# columns names\n",
    "names = data.columns"
   ]
  },
  {
   "cell_type": "code",
   "execution_count": 4,
   "metadata": {},
   "outputs": [
    {
     "data": {
      "text/html": [
       "<div>\n",
       "<style scoped>\n",
       "    .dataframe tbody tr th:only-of-type {\n",
       "        vertical-align: middle;\n",
       "    }\n",
       "\n",
       "    .dataframe tbody tr th {\n",
       "        vertical-align: top;\n",
       "    }\n",
       "\n",
       "    .dataframe thead th {\n",
       "        text-align: right;\n",
       "    }\n",
       "</style>\n",
       "<table border=\"1\" class=\"dataframe\">\n",
       "  <thead>\n",
       "    <tr style=\"text-align: right;\">\n",
       "      <th></th>\n",
       "      <th>date</th>\n",
       "      <th>Appliances</th>\n",
       "      <th>lights</th>\n",
       "      <th>T1</th>\n",
       "      <th>RH_1</th>\n",
       "      <th>T2</th>\n",
       "      <th>RH_2</th>\n",
       "      <th>T3</th>\n",
       "      <th>RH_3</th>\n",
       "      <th>T4</th>\n",
       "      <th>RH_4</th>\n",
       "      <th>T5</th>\n",
       "      <th>RH_5</th>\n",
       "      <th>T6</th>\n",
       "      <th>RH_6</th>\n",
       "      <th>T7</th>\n",
       "      <th>RH_7</th>\n",
       "      <th>T8</th>\n",
       "      <th>RH_8</th>\n",
       "      <th>T9</th>\n",
       "      <th>RH_9</th>\n",
       "      <th>T_out</th>\n",
       "      <th>Press_mm_hg</th>\n",
       "      <th>RH_out</th>\n",
       "      <th>Windspeed</th>\n",
       "      <th>Visibility</th>\n",
       "      <th>Tdewpoint</th>\n",
       "      <th>rv1</th>\n",
       "      <th>rv2</th>\n",
       "    </tr>\n",
       "  </thead>\n",
       "  <tbody>\n",
       "    <tr>\n",
       "      <th>0</th>\n",
       "      <td>2016-01-11 17:00:00</td>\n",
       "      <td>60.0</td>\n",
       "      <td>30.0</td>\n",
       "      <td>19.89</td>\n",
       "      <td>47.597</td>\n",
       "      <td>19.2</td>\n",
       "      <td>44.790</td>\n",
       "      <td>19.79</td>\n",
       "      <td>44.730</td>\n",
       "      <td>19.000</td>\n",
       "      <td>45.567</td>\n",
       "      <td>17.167</td>\n",
       "      <td>55.20</td>\n",
       "      <td>7.027</td>\n",
       "      <td>84.257</td>\n",
       "      <td>17.200</td>\n",
       "      <td>41.627</td>\n",
       "      <td>18.2</td>\n",
       "      <td>48.900</td>\n",
       "      <td>17.033</td>\n",
       "      <td>45.53</td>\n",
       "      <td>6.600</td>\n",
       "      <td>733.5</td>\n",
       "      <td>92.0</td>\n",
       "      <td>7.000</td>\n",
       "      <td>63.000</td>\n",
       "      <td>5.3</td>\n",
       "      <td>13.275</td>\n",
       "      <td>13.275</td>\n",
       "    </tr>\n",
       "    <tr>\n",
       "      <th>1</th>\n",
       "      <td>2016-01-11 17:10:00</td>\n",
       "      <td>60.0</td>\n",
       "      <td>30.0</td>\n",
       "      <td>19.89</td>\n",
       "      <td>46.693</td>\n",
       "      <td>19.2</td>\n",
       "      <td>44.722</td>\n",
       "      <td>19.79</td>\n",
       "      <td>44.790</td>\n",
       "      <td>19.000</td>\n",
       "      <td>45.992</td>\n",
       "      <td>17.167</td>\n",
       "      <td>55.20</td>\n",
       "      <td>6.833</td>\n",
       "      <td>84.063</td>\n",
       "      <td>17.200</td>\n",
       "      <td>41.560</td>\n",
       "      <td>NaN</td>\n",
       "      <td>48.863</td>\n",
       "      <td>NaN</td>\n",
       "      <td>45.56</td>\n",
       "      <td>6.483</td>\n",
       "      <td>733.6</td>\n",
       "      <td>92.0</td>\n",
       "      <td>6.667</td>\n",
       "      <td>NaN</td>\n",
       "      <td>5.2</td>\n",
       "      <td>18.606</td>\n",
       "      <td>18.606</td>\n",
       "    </tr>\n",
       "    <tr>\n",
       "      <th>2</th>\n",
       "      <td>2016-01-11 17:20:00</td>\n",
       "      <td>50.0</td>\n",
       "      <td>30.0</td>\n",
       "      <td>19.89</td>\n",
       "      <td>46.300</td>\n",
       "      <td>19.2</td>\n",
       "      <td>44.627</td>\n",
       "      <td>19.79</td>\n",
       "      <td>44.933</td>\n",
       "      <td>18.927</td>\n",
       "      <td>45.890</td>\n",
       "      <td>17.167</td>\n",
       "      <td>55.09</td>\n",
       "      <td>6.560</td>\n",
       "      <td>83.157</td>\n",
       "      <td>17.200</td>\n",
       "      <td>41.433</td>\n",
       "      <td>18.2</td>\n",
       "      <td>48.730</td>\n",
       "      <td>17.000</td>\n",
       "      <td>45.50</td>\n",
       "      <td>6.367</td>\n",
       "      <td>NaN</td>\n",
       "      <td>92.0</td>\n",
       "      <td>6.333</td>\n",
       "      <td>55.333</td>\n",
       "      <td>5.1</td>\n",
       "      <td>28.643</td>\n",
       "      <td>28.643</td>\n",
       "    </tr>\n",
       "    <tr>\n",
       "      <th>3</th>\n",
       "      <td>2016-01-11 17:30:00</td>\n",
       "      <td>50.0</td>\n",
       "      <td>40.0</td>\n",
       "      <td>19.89</td>\n",
       "      <td>46.067</td>\n",
       "      <td>19.2</td>\n",
       "      <td>44.590</td>\n",
       "      <td>19.79</td>\n",
       "      <td>45.000</td>\n",
       "      <td>18.890</td>\n",
       "      <td>45.723</td>\n",
       "      <td>17.167</td>\n",
       "      <td>55.09</td>\n",
       "      <td>6.433</td>\n",
       "      <td>83.423</td>\n",
       "      <td>17.133</td>\n",
       "      <td>41.290</td>\n",
       "      <td>18.1</td>\n",
       "      <td>48.590</td>\n",
       "      <td>17.000</td>\n",
       "      <td>45.40</td>\n",
       "      <td>6.250</td>\n",
       "      <td>733.8</td>\n",
       "      <td>NaN</td>\n",
       "      <td>6.000</td>\n",
       "      <td>51.500</td>\n",
       "      <td>5.0</td>\n",
       "      <td>45.410</td>\n",
       "      <td>45.410</td>\n",
       "    </tr>\n",
       "    <tr>\n",
       "      <th>4</th>\n",
       "      <td>2016-01-11 17:40:00</td>\n",
       "      <td>60.0</td>\n",
       "      <td>40.0</td>\n",
       "      <td>19.89</td>\n",
       "      <td>46.333</td>\n",
       "      <td>19.2</td>\n",
       "      <td>44.530</td>\n",
       "      <td>19.79</td>\n",
       "      <td>45.000</td>\n",
       "      <td>18.890</td>\n",
       "      <td>45.530</td>\n",
       "      <td>17.200</td>\n",
       "      <td>55.09</td>\n",
       "      <td>6.367</td>\n",
       "      <td>84.893</td>\n",
       "      <td>17.200</td>\n",
       "      <td>NaN</td>\n",
       "      <td>18.1</td>\n",
       "      <td>48.590</td>\n",
       "      <td>17.000</td>\n",
       "      <td>45.40</td>\n",
       "      <td>6.133</td>\n",
       "      <td>733.9</td>\n",
       "      <td>NaN</td>\n",
       "      <td>5.667</td>\n",
       "      <td>47.667</td>\n",
       "      <td>4.9</td>\n",
       "      <td>10.084</td>\n",
       "      <td>10.084</td>\n",
       "    </tr>\n",
       "  </tbody>\n",
       "</table>\n",
       "</div>"
      ],
      "text/plain": [
       "                  date  Appliances  lights     T1    RH_1    T2    RH_2     T3    RH_3      T4  \\\n",
       "0  2016-01-11 17:00:00        60.0    30.0  19.89  47.597  19.2  44.790  19.79  44.730  19.000   \n",
       "1  2016-01-11 17:10:00        60.0    30.0  19.89  46.693  19.2  44.722  19.79  44.790  19.000   \n",
       "2  2016-01-11 17:20:00        50.0    30.0  19.89  46.300  19.2  44.627  19.79  44.933  18.927   \n",
       "3  2016-01-11 17:30:00        50.0    40.0  19.89  46.067  19.2  44.590  19.79  45.000  18.890   \n",
       "4  2016-01-11 17:40:00        60.0    40.0  19.89  46.333  19.2  44.530  19.79  45.000  18.890   \n",
       "\n",
       "     RH_4      T5   RH_5     T6    RH_6      T7    RH_7    T8    RH_8      T9   RH_9  T_out  \\\n",
       "0  45.567  17.167  55.20  7.027  84.257  17.200  41.627  18.2  48.900  17.033  45.53  6.600   \n",
       "1  45.992  17.167  55.20  6.833  84.063  17.200  41.560   NaN  48.863     NaN  45.56  6.483   \n",
       "2  45.890  17.167  55.09  6.560  83.157  17.200  41.433  18.2  48.730  17.000  45.50  6.367   \n",
       "3  45.723  17.167  55.09  6.433  83.423  17.133  41.290  18.1  48.590  17.000  45.40  6.250   \n",
       "4  45.530  17.200  55.09  6.367  84.893  17.200     NaN  18.1  48.590  17.000  45.40  6.133   \n",
       "\n",
       "   Press_mm_hg  RH_out  Windspeed  Visibility  Tdewpoint     rv1     rv2  \n",
       "0        733.5    92.0      7.000      63.000        5.3  13.275  13.275  \n",
       "1        733.6    92.0      6.667         NaN        5.2  18.606  18.606  \n",
       "2          NaN    92.0      6.333      55.333        5.1  28.643  28.643  \n",
       "3        733.8     NaN      6.000      51.500        5.0  45.410  45.410  \n",
       "4        733.9     NaN      5.667      47.667        4.9  10.084  10.084  "
      ]
     },
     "execution_count": 4,
     "metadata": {},
     "output_type": "execute_result"
    }
   ],
   "source": [
    "# quick peek at dataset to check it loaded correctly\n",
    "data.head(5)"
   ]
  },
  {
   "cell_type": "markdown",
   "metadata": {},
   "source": [
    "# Exploration"
   ]
  },
  {
   "cell_type": "code",
   "execution_count": 5,
   "metadata": {},
   "outputs": [
    {
     "data": {
      "text/plain": [
       "(19735, 29)"
      ]
     },
     "execution_count": 5,
     "metadata": {},
     "output_type": "execute_result"
    }
   ],
   "source": [
    "# check size (number of rows and columns)\n",
    "data.shape"
   ]
  },
  {
   "cell_type": "code",
   "execution_count": 6,
   "metadata": {},
   "outputs": [
    {
     "name": "stdout",
     "output_type": "stream",
     "text": [
      "date            object\n",
      "Appliances     float64\n",
      "lights         float64\n",
      "T1             float64\n",
      "RH_1           float64\n",
      "T2             float64\n",
      "RH_2           float64\n",
      "T3             float64\n",
      "RH_3           float64\n",
      "T4             float64\n",
      "RH_4           float64\n",
      "T5             float64\n",
      "RH_5           float64\n",
      "T6             float64\n",
      "RH_6           float64\n",
      "T7             float64\n",
      "RH_7           float64\n",
      "T8             float64\n",
      "RH_8           float64\n",
      "T9             float64\n",
      "RH_9           float64\n",
      "T_out          float64\n",
      "Press_mm_hg    float64\n",
      "RH_out         float64\n",
      "Windspeed      float64\n",
      "Visibility     float64\n",
      "Tdewpoint      float64\n",
      "rv1            float64\n",
      "rv2            float64\n",
      "dtype: object\n"
     ]
    }
   ],
   "source": [
    "# check data type for each column\n",
    "types = data.dtypes\n",
    "print(types)"
   ]
  },
  {
   "cell_type": "code",
   "execution_count": 7,
   "metadata": {},
   "outputs": [
    {
     "name": "stdout",
     "output_type": "stream",
     "text": [
      "       Appliances     lights         T1       RH_1         T2       RH_2         T3       RH_3  \\\n",
      "count   18584.000  18473.000  16112.000  16131.000  15987.000  16373.000  16103.000  16322.000   \n",
      "mean       97.166      3.775     21.700     40.509     20.422     40.541     22.326     39.454   \n",
      "std       101.804      7.906      1.639      3.944      2.208      4.062      2.036      3.247   \n",
      "min        10.000      0.000     16.790     27.023     16.100     20.597     17.200     28.767   \n",
      "25%        50.000      0.000     20.730     37.700     18.890     37.978     20.790     37.163   \n",
      "50%        60.000      0.000     21.600     39.900     20.071     40.663     22.200     38.790   \n",
      "75%       100.000      0.000     22.700     43.267     21.600     43.400     23.390     42.000   \n",
      "max      1080.000     70.000     26.260     63.360     29.857     56.027     29.200     50.163   \n",
      "\n",
      "              T4       RH_4         T5       RH_5         T6       RH_6         T7       RH_7  \\\n",
      "count  16941.000  16229.000  16584.000  16623.000  15886.000  16671.000  15993.000  15417.000   \n",
      "mean      20.864     39.354     19.645     51.202      8.103     55.169     20.244     35.808   \n",
      "std        2.098      4.275      1.880      9.111      6.148     31.722      2.156      4.927   \n",
      "min       15.100     27.660     15.330     29.815     -6.030      1.000     15.390     23.200   \n",
      "25%       19.500     36.060     18.200     45.656      3.790     30.263     18.625     32.060   \n",
      "50%       20.633     38.663     19.500     49.490      7.511     55.757     20.000     35.290   \n",
      "75%       22.200     42.500     20.700     53.900     11.500     84.616     21.640     39.327   \n",
      "max       26.200     51.090     25.795     96.322     28.236     99.900     26.000     51.400   \n",
      "\n",
      "              T8       RH_8         T9       RH_9      T_out  Press_mm_hg     RH_out  Windspeed  \\\n",
      "count  15618.000  16746.000  16490.000  16267.000  18317.000    16965.000  17898.000  17219.000   \n",
      "mean      21.990     43.281     19.483     41.761      7.417      755.516     79.760      4.035   \n",
      "std        1.995      5.118      2.076      4.180      5.316        7.423     14.903      2.443   \n",
      "min       16.362     29.600     14.890     29.167     -5.000      729.300     24.000      0.000   \n",
      "25%       20.700     39.363     18.000     38.700      3.700      750.867     70.333      2.000   \n",
      "50%       22.067     42.730     19.290     41.163      6.917      756.100     83.667      3.667   \n",
      "75%       23.390     46.937     20.700     44.700     10.417      760.950     91.667      5.500   \n",
      "max       27.230     58.780     24.500     53.327     26.100      772.300    100.000     14.000   \n",
      "\n",
      "       Visibility  Tdewpoint        rv1        rv2  \n",
      "count   16975.000  17519.000  19735.000  19735.000  \n",
      "mean       38.295      3.762     24.988     24.988  \n",
      "std        11.819      4.190     14.497     14.497  \n",
      "min         1.000     -6.600      0.005      0.005  \n",
      "25%        29.000      0.908     12.498     12.498  \n",
      "50%        40.000      3.433     24.898     24.898  \n",
      "75%        40.000      6.567     37.584     37.584  \n",
      "max        66.000     15.500     49.997     49.997  \n"
     ]
    }
   ],
   "source": [
    "# summary statistics\n",
    "description = data.describe()\n",
    "print(description)"
   ]
  },
  {
   "cell_type": "code",
   "execution_count": 8,
   "metadata": {},
   "outputs": [
    {
     "name": "stdout",
     "output_type": "stream",
     "text": [
      "date              0\n",
      "Appliances     1151\n",
      "lights         1262\n",
      "T1             3623\n",
      "RH_1           3604\n",
      "T2             3748\n",
      "RH_2           3362\n",
      "T3             3632\n",
      "RH_3           3413\n",
      "T4             2794\n",
      "RH_4           3506\n",
      "T5             3151\n",
      "RH_5           3112\n",
      "T6             3849\n",
      "RH_6           3064\n",
      "T7             3742\n",
      "RH_7           4318\n",
      "T8             4117\n",
      "RH_8           2989\n",
      "T9             3245\n",
      "RH_9           3468\n",
      "T_out          1418\n",
      "Press_mm_hg    2770\n",
      "RH_out         1837\n",
      "Windspeed      2516\n",
      "Visibility     2760\n",
      "Tdewpoint      2216\n",
      "rv1               0\n",
      "rv2               0\n",
      "dtype: int64\n"
     ]
    }
   ],
   "source": [
    "# count missing values\n",
    "missing_count = data.isna().sum()\n",
    "print(missing_count)"
   ]
  },
  {
   "cell_type": "code",
   "execution_count": 9,
   "metadata": {},
   "outputs": [
    {
     "name": "stdout",
     "output_type": "stream",
     "text": [
      "date            0.000\n",
      "Appliances      5.832\n",
      "lights          6.395\n",
      "T1             18.358\n",
      "RH_1           18.262\n",
      "T2             18.992\n",
      "RH_2           17.036\n",
      "T3             18.404\n",
      "RH_3           17.294\n",
      "T4             14.158\n",
      "RH_4           17.765\n",
      "T5             15.967\n",
      "RH_5           15.769\n",
      "T6             19.503\n",
      "RH_6           15.526\n",
      "T7             18.961\n",
      "RH_7           21.880\n",
      "T8             20.861\n",
      "RH_8           15.146\n",
      "T9             16.443\n",
      "RH_9           17.573\n",
      "T_out           7.185\n",
      "Press_mm_hg    14.036\n",
      "RH_out          9.308\n",
      "Windspeed      12.749\n",
      "Visibility     13.985\n",
      "Tdewpoint      11.229\n",
      "rv1             0.000\n",
      "rv2             0.000\n",
      "dtype: float64\n"
     ]
    }
   ],
   "source": [
    "# calculate percentage of missing values\n",
    "missing_percent = missing_count / data.shape[0] * 100\n",
    "print(missing_percent)"
   ]
  },
  {
   "cell_type": "code",
   "execution_count": 10,
   "metadata": {
    "scrolled": true
   },
   "outputs": [
    {
     "data": {
      "text/plain": [
       "<matplotlib.axes._subplots.AxesSubplot at 0x7faf7f82cb38>"
      ]
     },
     "execution_count": 10,
     "metadata": {},
     "output_type": "execute_result"
    },
    {
     "data": {
      "image/png": "[encoded data removed]",
      "text/plain": [
       "<Figure size 1440x1080 with 2 Axes>"
      ]
     },
     "metadata": {},
     "output_type": "display_data"
    }
   ],
   "source": [
    "# calculate the correlation matrix\n",
    "correlations = data.corr(method='pearson')\n",
    "\n",
    "# plot the heatmap\n",
    "plt.subplots(figsize=(20,15))\n",
    "sns.heatmap(\n",
    "        correlations,\n",
    "        xticklabels=names[1:],\n",
    "        yticklabels=names[1:]\n",
    ")"
   ]
  },
  {
   "cell_type": "code",
   "execution_count": 11,
   "metadata": {},
   "outputs": [
    {
     "name": "stdout",
     "output_type": "stream",
     "text": [
      "             Appliances     lights     T1   RH_1     T2   RH_2     T3   RH_3     T4       RH_4  \\\n",
      "Appliances        1.000  1.996e-01  0.057  0.096  0.123 -0.054  0.088  0.045  0.041  2.535e-02   \n",
      "lights            0.200  1.000e+00 -0.033  0.117 -0.016  0.064 -0.109  0.152 -0.022  1.345e-01   \n",
      "T1                0.057 -3.320e-02  1.000  0.160  0.845 -0.009  0.897 -0.038  0.879  8.744e-02   \n",
      "RH_1              0.096  1.166e-01  0.160  1.000  0.249  0.802  0.234  0.837  0.104  8.759e-01   \n",
      "T2                0.123 -1.630e-02  0.845  0.249  1.000 -0.176  0.738  0.094  0.771  2.017e-01   \n",
      "RH_2             -0.054  6.409e-02 -0.009  0.802 -0.176  1.000  0.124  0.681 -0.048  7.294e-01   \n",
      "T3                0.088 -1.093e-01  0.897  0.234  0.738  0.124  1.000 -0.042  0.861  9.326e-02   \n",
      "RH_3              0.045  1.521e-01 -0.038  0.837  0.094  0.681 -0.042  1.000 -0.150  8.948e-01   \n",
      "T4                0.041 -2.197e-02  0.879  0.104  0.771 -0.048  0.861 -0.150  1.000 -5.895e-02   \n",
      "RH_4              0.025  1.345e-01  0.087  0.876  0.202  0.729  0.093  0.895 -0.059  1.000e+00   \n",
      "T5                0.027 -8.741e-02  0.891  0.181  0.725  0.091  0.892 -0.083  0.881  5.608e-02   \n",
      "RH_5              0.016  1.481e-01 -0.030  0.298  0.014  0.246 -0.085  0.369 -0.088  3.458e-01   \n",
      "T6                0.118 -8.758e-02  0.659  0.300  0.796 -0.014  0.690  0.052  0.658  2.361e-01   \n",
      "RH_6             -0.073  1.763e-01 -0.624  0.239 -0.593  0.379 -0.667  0.518 -0.710  3.924e-01   \n",
      "T7                0.017 -1.567e-01  0.849  0.030  0.682 -0.048  0.871 -0.253  0.887 -1.307e-01   \n",
      "RH_7             -0.042  6.372e-02  0.137  0.796  0.210  0.701  0.155  0.826  0.047  8.879e-01   \n",
      "T8                0.041 -8.418e-02  0.835 -0.009  0.600 -0.026  0.822 -0.274  0.806 -1.525e-01   \n",
      "RH_8             -0.079  3.703e-02 -0.013  0.730  0.049  0.680  0.017  0.827 -0.101  8.456e-01   \n",
      "T9                0.007 -1.685e-01  0.849  0.112  0.688  0.047  0.911 -0.207  0.892 -5.290e-02   \n",
      "RH_9             -0.049  4.296e-03  0.071  0.762  0.142  0.683  0.120  0.830 -0.026  8.555e-01   \n",
      "T_out             0.100 -8.165e-02  0.689  0.328  0.788  0.032  0.705  0.096  0.671  2.710e-01   \n",
      "Press_mm_hg      -0.047 -1.686e-02 -0.143 -0.234 -0.094 -0.232 -0.156 -0.168 -0.072 -1.705e-01   \n",
      "RH_out           -0.140  8.956e-02 -0.354  0.274 -0.511  0.580 -0.296  0.360 -0.394  3.418e-01   \n",
      "Windspeed         0.075  6.444e-02 -0.098  0.199  0.034  0.075 -0.118  0.262 -0.194  3.032e-01   \n",
      "Visibility        0.015  2.817e-02 -0.075 -0.016 -0.057 -0.021 -0.098  0.028 -0.105  1.414e-02   \n",
      "Tdewpoint         0.024 -2.936e-02  0.576  0.629  0.576  0.496  0.648  0.393  0.530  5.970e-01   \n",
      "rv1              -0.008  9.778e-04 -0.001  0.002 -0.005  0.009 -0.001 -0.002  0.002  8.426e-04   \n",
      "rv2              -0.008  9.778e-04 -0.001  0.002 -0.005  0.009 -0.001 -0.002  0.002  8.426e-04   \n",
      "\n",
      "                T5   RH_5     T6   RH_6     T7   RH_7     T8   RH_8     T9   RH_9  T_out  \\\n",
      "Appliances   0.027  0.016  0.118 -0.073  0.017 -0.042  0.041 -0.079  0.007 -0.049  0.100   \n",
      "lights      -0.087  0.148 -0.088  0.176 -0.157  0.064 -0.084  0.037 -0.168  0.004 -0.082   \n",
      "T1           0.891 -0.030  0.659 -0.624  0.849  0.137  0.835 -0.013  0.849  0.071  0.689   \n",
      "RH_1         0.181  0.298  0.300  0.239  0.030  0.796 -0.009  0.730  0.112  0.762  0.328   \n",
      "T2           0.725  0.014  0.796 -0.593  0.682  0.210  0.600  0.049  0.688  0.142  0.788   \n",
      "RH_2         0.091  0.246 -0.014  0.379 -0.048  0.701 -0.026  0.680  0.047  0.683  0.032   \n",
      "T3           0.892 -0.085  0.690 -0.667  0.871  0.155  0.822  0.017  0.911  0.120  0.705   \n",
      "RH_3        -0.083  0.369  0.052  0.518 -0.253  0.826 -0.274  0.827 -0.207  0.830  0.096   \n",
      "T4           0.881 -0.088  0.658 -0.710  0.887  0.047  0.806 -0.101  0.892 -0.026  0.671   \n",
      "RH_4         0.056  0.346  0.236  0.392 -0.131  0.888 -0.152  0.846 -0.053  0.856  0.271   \n",
      "T5           1.000  0.016  0.630 -0.655  0.890  0.119  0.850 -0.019  0.920  0.052  0.653   \n",
      "RH_5         0.016  1.000 -0.093  0.258 -0.150  0.311 -0.086  0.358 -0.148  0.263 -0.067   \n",
      "T6           0.630 -0.093  1.000 -0.684  0.635  0.241  0.500  0.055  0.676  0.170  0.975   \n",
      "RH_6        -0.655  0.258 -0.684  1.000 -0.761  0.348 -0.668  0.485 -0.749  0.385 -0.656   \n",
      "T7           0.890 -0.150  0.635 -0.761  1.000 -0.017  0.885 -0.204  0.952 -0.076  0.648   \n",
      "RH_7         0.119  0.311  0.241  0.348 -0.017  1.000 -0.102  0.880  0.030  0.862  0.280   \n",
      "T8           0.850 -0.086  0.500 -0.668  0.885 -0.102  1.000 -0.193  0.878 -0.143  0.521   \n",
      "RH_8        -0.019  0.358  0.055  0.485 -0.204  0.880 -0.193  1.000 -0.123  0.858  0.100   \n",
      "T9           0.920 -0.148  0.676 -0.749  0.952  0.030  0.878 -0.123  1.000 -0.010  0.679   \n",
      "RH_9         0.052  0.263  0.170  0.385 -0.076  0.862 -0.143  0.858 -0.010  1.000  0.211   \n",
      "T_out        0.653 -0.067  0.975 -0.656  0.648  0.280  0.521  0.100  0.679  0.211  1.000   \n",
      "Press_mm_hg -0.138 -0.098 -0.099 -0.047 -0.124 -0.178 -0.205 -0.146 -0.166 -0.126 -0.144   \n",
      "RH_out      -0.294  0.182 -0.578  0.713 -0.416  0.379 -0.299  0.486 -0.331  0.360 -0.575   \n",
      "Windspeed   -0.156  0.088  0.158  0.113 -0.199  0.217 -0.231  0.218 -0.188  0.235  0.191   \n",
      "Visibility  -0.091 -0.007 -0.076  0.105 -0.123 -0.016 -0.071  0.042 -0.115  0.008 -0.083   \n",
      "Tdewpoint    0.581  0.056  0.763 -0.286  0.488  0.628  0.417  0.482  0.591  0.528  0.790   \n",
      "rv1          0.002 -0.008 -0.004  0.008 -0.002  0.002 -0.003  0.004  0.003 -0.002 -0.015   \n",
      "rv2          0.002 -0.008 -0.004  0.008 -0.002  0.002 -0.003  0.004  0.003 -0.002 -0.015   \n",
      "\n",
      "             Press_mm_hg  RH_out  Windspeed  Visibility  Tdewpoint        rv1        rv2  \n",
      "Appliances        -0.047  -0.140      0.075       0.015      0.024 -8.205e-03 -8.205e-03  \n",
      "lights            -0.017   0.090      0.064       0.028     -0.029  9.778e-04  9.778e-04  \n",
      "T1                -0.143  -0.354     -0.098      -0.075      0.576 -1.019e-03 -1.019e-03  \n",
      "RH_1              -0.234   0.274      0.199      -0.016      0.629  1.924e-03  1.924e-03  \n",
      "T2                -0.094  -0.511      0.034      -0.057      0.576 -5.007e-03 -5.007e-03  \n",
      "RH_2              -0.232   0.580      0.075      -0.021      0.496  8.536e-03  8.536e-03  \n",
      "T3                -0.156  -0.296     -0.118      -0.098      0.648 -1.387e-03 -1.387e-03  \n",
      "RH_3              -0.168   0.360      0.262       0.028      0.393 -2.273e-03 -2.273e-03  \n",
      "T4                -0.072  -0.394     -0.194      -0.105      0.530  2.468e-03  2.468e-03  \n",
      "RH_4              -0.171   0.342      0.303       0.014      0.597  8.426e-04  8.426e-04  \n",
      "T5                -0.138  -0.294     -0.156      -0.091      0.581  1.642e-03  1.642e-03  \n",
      "RH_5              -0.098   0.182      0.088      -0.007      0.056 -8.315e-03 -8.315e-03  \n",
      "T6                -0.099  -0.578      0.158      -0.076      0.763 -4.144e-03 -4.144e-03  \n",
      "RH_6              -0.047   0.713      0.113       0.105     -0.286  8.009e-03  8.009e-03  \n",
      "T7                -0.124  -0.416     -0.199      -0.123      0.488 -1.579e-03 -1.579e-03  \n",
      "RH_7              -0.178   0.379      0.217      -0.016      0.628  2.431e-03  2.431e-03  \n",
      "T8                -0.205  -0.299     -0.231      -0.071      0.417 -2.505e-03 -2.505e-03  \n",
      "RH_8              -0.146   0.486      0.218       0.042      0.482  4.384e-03  4.384e-03  \n",
      "T9                -0.166  -0.331     -0.188      -0.115      0.591  3.100e-03  3.100e-03  \n",
      "RH_9              -0.126   0.360      0.235       0.008      0.528 -2.176e-03 -2.176e-03  \n",
      "T_out             -0.144  -0.575      0.191      -0.083      0.790 -1.455e-02 -1.455e-02  \n",
      "Press_mm_hg        1.000  -0.092     -0.235       0.042     -0.246  6.057e-03  6.057e-03  \n",
      "RH_out            -0.092   1.000     -0.178       0.083      0.033  1.863e-02  1.863e-02  \n",
      "Windspeed         -0.235  -0.178      1.000      -0.010      0.123 -2.007e-02 -2.007e-02  \n",
      "Visibility         0.042   0.083     -0.010       1.000     -0.048 -6.131e-03 -6.131e-03  \n",
      "Tdewpoint         -0.246   0.033      0.123      -0.048      1.000 -3.688e-03 -3.688e-03  \n",
      "rv1                0.006   0.019     -0.020      -0.006     -0.004  1.000e+00  1.000e+00  \n",
      "rv2                0.006   0.019     -0.020      -0.006     -0.004  1.000e+00  1.000e+00  \n"
     ]
    }
   ],
   "source": [
    "# print correlations\n",
    "print(correlations)"
   ]
  },
  {
   "cell_type": "code",
   "execution_count": 12,
   "metadata": {
    "scrolled": true
   },
   "outputs": [
    {
     "data": {
      "image/png": "[encoded data removed]",
      "text/plain": [
       "<Figure size 2016x2016 with 30 Axes>"
      ]
     },
     "metadata": {},
     "output_type": "display_data"
    }
   ],
   "source": [
    "# histograms\n",
    "data.hist(figsize=(28,28))\n",
    "plt.show()"
   ]
  },
  {
   "cell_type": "markdown",
   "metadata": {},
   "source": [
    "# Modelling"
   ]
  },
  {
   "cell_type": "markdown",
   "metadata": {},
   "source": [
    "## Clean"
   ]
  },
  {
   "cell_type": "code",
   "execution_count": 13,
   "metadata": {},
   "outputs": [],
   "source": [
    "# calculate the mean to use to fill in missing values\n",
    "col_mean = data.mean()"
   ]
  },
  {
   "cell_type": "code",
   "execution_count": 14,
   "metadata": {},
   "outputs": [
    {
     "data": {
      "text/plain": [
       "(18584, 29)"
      ]
     },
     "execution_count": 14,
     "metadata": {},
     "output_type": "execute_result"
    }
   ],
   "source": [
    "# remove observations where dependent variable is missing\n",
    "dataset = data.dropna(subset=['Appliances'])\n",
    "dataset.shape"
   ]
  },
  {
   "cell_type": "code",
   "execution_count": 15,
   "metadata": {},
   "outputs": [],
   "source": [
    "# comment out variables not to include in model data set\n",
    "model_variables = [\n",
    "    #'date',\n",
    "    'Appliances',\n",
    "    #'lights',\n",
    "    'T1',\n",
    "    'RH_1',\n",
    "    'T2',\n",
    "    'RH_2',\n",
    "    'T3',\n",
    "    'RH_3',\n",
    "    'T4',\n",
    "    'RH_4',\n",
    "    'T5',\n",
    "    'RH_5',\n",
    "    'T6',\n",
    "    #'RH_6',\n",
    "    'T7',\n",
    "    'RH_7',\n",
    "    'T8',\n",
    "    'RH_8',\n",
    "    #'T9',\n",
    "    'RH_9',\n",
    "    'T_out',\n",
    "    'Press_mm_hg',\n",
    "    'RH_out',\n",
    "    #'Windspeed',\n",
    "    #'Visibility',\n",
    "    'Tdewpoint'\n",
    "    #'rv1',\n",
    "    #'rv2'\n",
    "]"
   ]
  },
  {
   "cell_type": "code",
   "execution_count": 16,
   "metadata": {},
   "outputs": [],
   "source": [
    "# filter the data set based on the variables above\n",
    "dataset = dataset.loc[:,model_variables]"
   ]
  },
  {
   "cell_type": "code",
   "execution_count": 17,
   "metadata": {},
   "outputs": [],
   "source": [
    "# for independent variables, encode missing values as -9999\n",
    "# this approach for handling missing values delivered poorer results from the ML models\n",
    "\n",
    "#dataset = dataset.fillna(value=-9999)\n",
    "#dataset.head(5)"
   ]
  },
  {
   "cell_type": "code",
   "execution_count": 18,
   "metadata": {},
   "outputs": [],
   "source": [
    "# for independent variables, fill in missing values with the mean\n",
    "# the dependent variable does not contain any missing values as these were removed earlier\n",
    "dataset = dataset.fillna(value=col_mean.to_dict())"
   ]
  },
  {
   "cell_type": "code",
   "execution_count": 19,
   "metadata": {},
   "outputs": [
    {
     "data": {
      "text/html": [
       "<div>\n",
       "<style scoped>\n",
       "    .dataframe tbody tr th:only-of-type {\n",
       "        vertical-align: middle;\n",
       "    }\n",
       "\n",
       "    .dataframe tbody tr th {\n",
       "        vertical-align: top;\n",
       "    }\n",
       "\n",
       "    .dataframe thead th {\n",
       "        text-align: right;\n",
       "    }\n",
       "</style>\n",
       "<table border=\"1\" class=\"dataframe\">\n",
       "  <thead>\n",
       "    <tr style=\"text-align: right;\">\n",
       "      <th></th>\n",
       "      <th>Appliances</th>\n",
       "      <th>T1</th>\n",
       "      <th>RH_1</th>\n",
       "      <th>T2</th>\n",
       "      <th>RH_2</th>\n",
       "      <th>T3</th>\n",
       "      <th>RH_3</th>\n",
       "      <th>T4</th>\n",
       "      <th>RH_4</th>\n",
       "      <th>T5</th>\n",
       "      <th>RH_5</th>\n",
       "      <th>T6</th>\n",
       "      <th>T7</th>\n",
       "      <th>RH_7</th>\n",
       "      <th>T8</th>\n",
       "      <th>RH_8</th>\n",
       "      <th>RH_9</th>\n",
       "      <th>T_out</th>\n",
       "      <th>Press_mm_hg</th>\n",
       "      <th>RH_out</th>\n",
       "      <th>Tdewpoint</th>\n",
       "    </tr>\n",
       "  </thead>\n",
       "  <tbody>\n",
       "    <tr>\n",
       "      <th>0</th>\n",
       "      <td>60.0</td>\n",
       "      <td>19.89</td>\n",
       "      <td>47.597</td>\n",
       "      <td>19.2</td>\n",
       "      <td>44.790</td>\n",
       "      <td>19.79</td>\n",
       "      <td>44.730</td>\n",
       "      <td>19.000</td>\n",
       "      <td>45.567</td>\n",
       "      <td>17.167</td>\n",
       "      <td>55.20</td>\n",
       "      <td>7.027</td>\n",
       "      <td>17.200</td>\n",
       "      <td>41.627</td>\n",
       "      <td>18.20</td>\n",
       "      <td>48.900</td>\n",
       "      <td>45.53</td>\n",
       "      <td>6.600</td>\n",
       "      <td>733.500</td>\n",
       "      <td>92.00</td>\n",
       "      <td>5.3</td>\n",
       "    </tr>\n",
       "    <tr>\n",
       "      <th>1</th>\n",
       "      <td>60.0</td>\n",
       "      <td>19.89</td>\n",
       "      <td>46.693</td>\n",
       "      <td>19.2</td>\n",
       "      <td>44.722</td>\n",
       "      <td>19.79</td>\n",
       "      <td>44.790</td>\n",
       "      <td>19.000</td>\n",
       "      <td>45.992</td>\n",
       "      <td>17.167</td>\n",
       "      <td>55.20</td>\n",
       "      <td>6.833</td>\n",
       "      <td>17.200</td>\n",
       "      <td>41.560</td>\n",
       "      <td>21.99</td>\n",
       "      <td>48.863</td>\n",
       "      <td>45.56</td>\n",
       "      <td>6.483</td>\n",
       "      <td>733.600</td>\n",
       "      <td>92.00</td>\n",
       "      <td>5.2</td>\n",
       "    </tr>\n",
       "    <tr>\n",
       "      <th>2</th>\n",
       "      <td>50.0</td>\n",
       "      <td>19.89</td>\n",
       "      <td>46.300</td>\n",
       "      <td>19.2</td>\n",
       "      <td>44.627</td>\n",
       "      <td>19.79</td>\n",
       "      <td>44.933</td>\n",
       "      <td>18.927</td>\n",
       "      <td>45.890</td>\n",
       "      <td>17.167</td>\n",
       "      <td>55.09</td>\n",
       "      <td>6.560</td>\n",
       "      <td>17.200</td>\n",
       "      <td>41.433</td>\n",
       "      <td>18.20</td>\n",
       "      <td>48.730</td>\n",
       "      <td>45.50</td>\n",
       "      <td>6.367</td>\n",
       "      <td>755.516</td>\n",
       "      <td>92.00</td>\n",
       "      <td>5.1</td>\n",
       "    </tr>\n",
       "    <tr>\n",
       "      <th>3</th>\n",
       "      <td>50.0</td>\n",
       "      <td>19.89</td>\n",
       "      <td>46.067</td>\n",
       "      <td>19.2</td>\n",
       "      <td>44.590</td>\n",
       "      <td>19.79</td>\n",
       "      <td>45.000</td>\n",
       "      <td>18.890</td>\n",
       "      <td>45.723</td>\n",
       "      <td>17.167</td>\n",
       "      <td>55.09</td>\n",
       "      <td>6.433</td>\n",
       "      <td>17.133</td>\n",
       "      <td>41.290</td>\n",
       "      <td>18.10</td>\n",
       "      <td>48.590</td>\n",
       "      <td>45.40</td>\n",
       "      <td>6.250</td>\n",
       "      <td>733.800</td>\n",
       "      <td>79.76</td>\n",
       "      <td>5.0</td>\n",
       "    </tr>\n",
       "    <tr>\n",
       "      <th>4</th>\n",
       "      <td>60.0</td>\n",
       "      <td>19.89</td>\n",
       "      <td>46.333</td>\n",
       "      <td>19.2</td>\n",
       "      <td>44.530</td>\n",
       "      <td>19.79</td>\n",
       "      <td>45.000</td>\n",
       "      <td>18.890</td>\n",
       "      <td>45.530</td>\n",
       "      <td>17.200</td>\n",
       "      <td>55.09</td>\n",
       "      <td>6.367</td>\n",
       "      <td>17.200</td>\n",
       "      <td>35.808</td>\n",
       "      <td>18.10</td>\n",
       "      <td>48.590</td>\n",
       "      <td>45.40</td>\n",
       "      <td>6.133</td>\n",
       "      <td>733.900</td>\n",
       "      <td>79.76</td>\n",
       "      <td>4.9</td>\n",
       "    </tr>\n",
       "  </tbody>\n",
       "</table>\n",
       "</div>"
      ],
      "text/plain": [
       "   Appliances     T1    RH_1    T2    RH_2     T3    RH_3      T4    RH_4      T5   RH_5     T6  \\\n",
       "0        60.0  19.89  47.597  19.2  44.790  19.79  44.730  19.000  45.567  17.167  55.20  7.027   \n",
       "1        60.0  19.89  46.693  19.2  44.722  19.79  44.790  19.000  45.992  17.167  55.20  6.833   \n",
       "2        50.0  19.89  46.300  19.2  44.627  19.79  44.933  18.927  45.890  17.167  55.09  6.560   \n",
       "3        50.0  19.89  46.067  19.2  44.590  19.79  45.000  18.890  45.723  17.167  55.09  6.433   \n",
       "4        60.0  19.89  46.333  19.2  44.530  19.79  45.000  18.890  45.530  17.200  55.09  6.367   \n",
       "\n",
       "       T7    RH_7     T8    RH_8   RH_9  T_out  Press_mm_hg  RH_out  Tdewpoint  \n",
       "0  17.200  41.627  18.20  48.900  45.53  6.600      733.500   92.00        5.3  \n",
       "1  17.200  41.560  21.99  48.863  45.56  6.483      733.600   92.00        5.2  \n",
       "2  17.200  41.433  18.20  48.730  45.50  6.367      755.516   92.00        5.1  \n",
       "3  17.133  41.290  18.10  48.590  45.40  6.250      733.800   79.76        5.0  \n",
       "4  17.200  35.808  18.10  48.590  45.40  6.133      733.900   79.76        4.9  "
      ]
     },
     "execution_count": 19,
     "metadata": {},
     "output_type": "execute_result"
    }
   ],
   "source": [
    "dataset.head(5)"
   ]
  },
  {
   "cell_type": "markdown",
   "metadata": {},
   "source": [
    "## Set up validation hold-out set"
   ]
  },
  {
   "cell_type": "code",
   "execution_count": 20,
   "metadata": {},
   "outputs": [],
   "source": [
    "model_dataset = dataset.values\n",
    "\n",
    "# assumes dependent variable is at index 0\n",
    "X = model_dataset[:,1:]\n",
    "y = model_dataset[:,0]\n",
    "\n",
    "X_train, X_validation, y_train, y_validation = cross_validation.train_test_split(X, y, test_size=validation_size, random_state=seed)"
   ]
  },
  {
   "cell_type": "markdown",
   "metadata": {},
   "source": [
    "## Evaluate candidate algorithms"
   ]
  },
  {
   "cell_type": "code",
   "execution_count": 21,
   "metadata": {},
   "outputs": [],
   "source": [
    "num_instances = len(X_train)\n",
    "\n",
    "models = []\n",
    "models.append(('LR', LinearRegression()))\n",
    "models.append(('LASSO', Lasso()))\n",
    "models.append(('EN', ElasticNet()))\n",
    "models.append(('KNN', KNeighborsRegressor()))\n",
    "models.append(('CART', DecisionTreeRegressor()))\n",
    "models.append(('SVR', SVR()))"
   ]
  },
  {
   "cell_type": "code",
   "execution_count": 22,
   "metadata": {},
   "outputs": [
    {
     "name": "stdout",
     "output_type": "stream",
     "text": [
      "LR: 9334.584488 (96.615653)\n",
      "LASSO: 9347.500303 (96.682472)\n",
      "EN: 9395.795657 (96.931912)\n",
      "KNN: 7461.354718 (86.379134)\n",
      "CART: 12110.620113 (110.048263)\n",
      "SVR: 11202.093518 (105.839943)\n"
     ]
    }
   ],
   "source": [
    "# evaluate each candidate algorithm listed above\n",
    "results = []\n",
    "names = []\n",
    "\n",
    "for name, model in models:\n",
    "    kfold = cross_validation.KFold(n=num_instances, n_folds=num_folds, random_state=seed)\n",
    "    cv_results = cross_validation.cross_val_score(model, X_train, y_train, cv=kfold, scoring=scoring)\n",
    "    results.append(cv_results)\n",
    "    names.append(name)\n",
    "    \n",
    "    # display the model name, mean squared error, root mean squared error (RMSE)\n",
    "    message = \"%s: %f (%f)\" % (name, cv_results.mean()*-1, math.sqrt(cv_results.mean()*-1))\n",
    "    print(message)"
   ]
  },
  {
   "cell_type": "markdown",
   "metadata": {},
   "source": [
    "## Re-evaluate with scaled standardised data"
   ]
  },
  {
   "cell_type": "code",
   "execution_count": 23,
   "metadata": {},
   "outputs": [],
   "source": [
    "pipelines = []\n",
    "\n",
    "pipelines.append(('ScaledLR', Pipeline([('Scaler', StandardScaler()),('LR', LinearRegression())])))\n",
    "pipelines.append(('ScaledLASSO', Pipeline([('Scaler', StandardScaler()),('LASSO', Lasso())])))\n",
    "pipelines.append(('ScaledEN', Pipeline([('Scaler', StandardScaler()),('EN', ElasticNet())])))\n",
    "pipelines.append(('ScaledKNN', Pipeline([('Scaler', StandardScaler()),('KNN', KNeighborsRegressor())])))\n",
    "pipelines.append(('ScaledCART', Pipeline([('Scaler', StandardScaler()),('CART', DecisionTreeRegressor())])))\n",
    "pipelines.append(('ScaledSVR', Pipeline([('Scaler', StandardScaler()),('SVR', SVR())])))"
   ]
  },
  {
   "cell_type": "code",
   "execution_count": 24,
   "metadata": {
    "scrolled": true
   },
   "outputs": [
    {
     "name": "stdout",
     "output_type": "stream",
     "text": [
      "ScaledLR: 9334.584488 (96.615653)\n",
      "ScaledLASSO: 9386.616987 (96.884555)\n",
      "ScaledEN: 9701.091296 (98.494118)\n",
      "ScaledKNN: 7251.431595 (85.155338)\n",
      "ScaledCART: 12160.605907 (110.275137)\n",
      "ScaledSVR: 10466.794733 (102.307354)\n"
     ]
    }
   ],
   "source": [
    "# evaluate each candidate algorithm listed above\n",
    "results = []\n",
    "names = []\n",
    "\n",
    "for name, model in pipelines:\n",
    "    kfold = cross_validation.KFold(n=num_instances, n_folds=num_folds, random_state=seed)\n",
    "    cv_results = cross_validation.cross_val_score(model, X_train, y_train, cv=kfold, scoring=scoring)\n",
    "    results.append(cv_results)\n",
    "    names.append(name)\n",
    "    \n",
    "    # display the model name, mean squared error, root mean squared error (RMSE)\n",
    "    message = \"%s: %f (%f)\" % (name, cv_results.mean()*-1, math.sqrt(cv_results.mean()*-1))\n",
    "    print(message)"
   ]
  },
  {
   "cell_type": "markdown",
   "metadata": {},
   "source": [
    "## Evaluate using ensemble methods"
   ]
  },
  {
   "cell_type": "code",
   "execution_count": 25,
   "metadata": {},
   "outputs": [],
   "source": [
    "ensembles = []\n",
    "\n",
    "ensembles.append(('ScaledAB', Pipeline([('Scaler', StandardScaler()), ('AB', AdaBoostRegressor())])))\n",
    "ensembles.append(('ScaledGBM', Pipeline([('Scaler', StandardScaler()), ('GBM', GradientBoostingRegressor())])))\n",
    "ensembles.append(('ScaledRF', Pipeline([('Scaler', StandardScaler()), ('RF', RandomForestRegressor())])))\n",
    "ensembles.append(('ScaledET', Pipeline([('Scaler', StandardScaler()), ('ET', ExtraTreesRegressor())])))"
   ]
  },
  {
   "cell_type": "code",
   "execution_count": 26,
   "metadata": {},
   "outputs": [
    {
     "name": "stdout",
     "output_type": "stream",
     "text": [
      "ScaledAB: 24551.690347 (156.689790)\n",
      "ScaledGBM: 8225.393607 (90.693956)\n",
      "ScaledRF: 6741.979096 (82.109555)\n",
      "ScaledET: 6320.868035 (79.503887)\n"
     ]
    }
   ],
   "source": [
    "# evaluate each candidate algorithm listed above\n",
    "results = []\n",
    "names = []\n",
    "\n",
    "for name, model in ensembles:\n",
    "    kfold = cross_validation.KFold(n=num_instances, n_folds=num_folds, random_state=seed)\n",
    "    cv_results = cross_validation.cross_val_score(model, X_train, y_train, cv=kfold, scoring=scoring)\n",
    "    results.append(cv_results)\n",
    "    names.append(name)\n",
    "    \n",
    "    # display the model name, mean squared error, root mean squared error (RMSE)\n",
    "    message = \"%s: %f (%f)\" % (name, cv_results.mean()*-1, math.sqrt(cv_results.mean()*-1))\n",
    "    print(message)"
   ]
  },
  {
   "cell_type": "markdown",
   "metadata": {},
   "source": [
    "## Tune ensemble algorithm"
   ]
  },
  {
   "cell_type": "code",
   "execution_count": 27,
   "metadata": {},
   "outputs": [],
   "source": [
    "# for ExtraTreesRegressor, tune the n_estimators parameter using grid search\n",
    "scaler = StandardScaler().fit(X_train)\n",
    "rescaledX = scaler.transform(X_train)\n",
    "param_grid = dict(n_estimators=np.array([50,100,150,200]))\n",
    "model = ExtraTreesRegressor(random_state=seed)\n",
    "kfold = cross_validation.KFold(n=num_instances, n_folds=num_folds, random_state=seed)\n",
    "grid = GridSearchCV(estimator=model, param_grid=param_grid, scoring=scoring, cv=kfold)\n",
    "grid_result = grid.fit(rescaledX, y_train)"
   ]
  },
  {
   "cell_type": "code",
   "execution_count": 28,
   "metadata": {},
   "outputs": [
    {
     "name": "stdout",
     "output_type": "stream",
     "text": [
      "Best: 5565.499451 (74.602275) using {'n_estimators': 200}\n",
      "5613.658282 (74.924350) with {'n_estimators': 50}\n",
      "5588.725944 (74.757782) with {'n_estimators': 100}\n",
      "5573.920356 (74.658692) with {'n_estimators': 150}\n",
      "5565.520295 (74.602415) with {'n_estimators': 200}\n"
     ]
    }
   ],
   "source": [
    "print(\"Best: %f (%f) using %s\" % (grid_result.best_score_*-1, math.sqrt(grid_result.best_score_*-1), grid_result.best_params_))\n",
    "for params, mean_score, scores in grid_result.grid_scores_:\n",
    "    print(\"%f (%f) with %r\" % (scores.mean()*-1, math.sqrt(scores.mean()*-1), params))"
   ]
  },
  {
   "cell_type": "markdown",
   "metadata": {},
   "source": [
    "## Finalise model"
   ]
  },
  {
   "cell_type": "code",
   "execution_count": 29,
   "metadata": {},
   "outputs": [
    {
     "data": {
      "text/plain": [
       "ExtraTreesRegressor(bootstrap=False, criterion='mse', max_depth=None,\n",
       "          max_features='auto', max_leaf_nodes=None,\n",
       "          min_impurity_decrease=0.0, min_impurity_split=None,\n",
       "          min_samples_leaf=1, min_samples_split=2,\n",
       "          min_weight_fraction_leaf=0.0, n_estimators=200, n_jobs=1,\n",
       "          oob_score=False, random_state=8, verbose=0, warm_start=False)"
      ]
     },
     "execution_count": 29,
     "metadata": {},
     "output_type": "execute_result"
    }
   ],
   "source": [
    "# build model with best n_estimators from parameter tuning above\n",
    "scaler = StandardScaler().fit(X_train)\n",
    "rescaledX = scaler.transform(X_train)\n",
    "model = ExtraTreesRegressor(random_state=seed, n_estimators=200)\n",
    "model.fit(rescaledX, y_train)"
   ]
  },
  {
   "cell_type": "code",
   "execution_count": 30,
   "metadata": {},
   "outputs": [
    {
     "name": "stdout",
     "output_type": "stream",
     "text": [
      "75.94060482012544\n"
     ]
    }
   ],
   "source": [
    "# predict using validation dataset\n",
    "rescaledValidationX = scaler.transform(X_validation)\n",
    "predictions = model.predict(rescaledValidationX)\n",
    "print(math.sqrt(mean_squared_error(y_validation, predictions)))"
   ]
  },
  {
   "cell_type": "code",
   "execution_count": null,
   "metadata": {},
   "outputs": [],
   "source": []
  }
 ],
 "metadata": {
  "kernelspec": {
   "display_name": "Python 3",
   "language": "python",
   "name": "python3"
  },
  "language_info": {
   "codemirror_mode": {
    "name": "ipython",
    "version": 3
   },
   "file_extension": ".py",
   "mimetype": "text/x-python",
   "name": "python",
   "nbconvert_exporter": "python",
   "pygments_lexer": "ipython3",
   "version": "3.6.8"
  }
 },
 "nbformat": 4,
 "nbformat_minor": 2
}
